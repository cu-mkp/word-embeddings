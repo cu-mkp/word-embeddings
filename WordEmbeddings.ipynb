{
  "nbformat": 4,
  "nbformat_minor": 0,
  "metadata": {
    "colab": {
      "name": "WordEmbeddings.ipynb",
      "provenance": [],
      "authorship_tag": "ABX9TyPk//TvyHsYbRatuGqwv6WZ",
      "include_colab_link": true
    },
    "kernelspec": {
      "name": "python3",
      "display_name": "Python 3"
    },
    "language_info": {
      "name": "python"
    }
  },
  "cells": [
    {
      "cell_type": "markdown",
      "metadata": {
        "id": "view-in-github",
        "colab_type": "text"
      },
      "source": [
        "<a href=\"https://colab.research.google.com/github/cu-mkp/word-embeddings/blob/main/WordEmbeddings.ipynb\" target=\"_parent\"><img src=\"https://colab.research.google.com/assets/colab-badge.svg\" alt=\"Open In Colab\"/></a>"
      ]
    },
    {
      "cell_type": "code",
      "source": [
        "#Mounting drive\n",
        "from google.colab import drive\n",
        "drive.mount(\"/content/gdrive\")\n"
      ],
      "metadata": {
        "id": "DRHj1ozj7Jxm"
      },
      "execution_count": null,
      "outputs": []
    },
    {
      "cell_type": "code",
      "source": [
        "#cloning manuscript object and data and moving to the right folder\n",
        "#! cd \"/content/gdrive/MyDrive/Research\"\n",
        "#! mkdir \"/content/gdrive/MyDrive/Research/manuscript_object\""
      ],
      "metadata": {
        "id": "KkOoxyOC7WVa"
      },
      "execution_count": 9,
      "outputs": []
    },
    {
      "cell_type": "code",
      "execution_count": null,
      "metadata": {
        "id": "EcE8i1f27Cq1"
      },
      "outputs": [],
      "source": [
        "#! mkdir \"/content/gdrive/MyDrive/Research/manuscript_object\"\n",
        "#! git clone https://github.com/cu-mkp/m-k-manuscript-data"
      ]
    },
    {
      "cell_type": "code",
      "source": [
        "#! mv \"m-k-manuscript-data\" \"/content/gdrive/MyDrive/Research/Making and Knowing\""
      ],
      "metadata": {
        "id": "-pbBHHbm8NDr"
      },
      "execution_count": null,
      "outputs": []
    },
    {
      "cell_type": "code",
      "source": [
        "#! git clone https://github.com/cu-mkp/manuscript-object\n",
        "#! mv \"/manuscript_object\" \"/content/gdrive/MyDrive/Research/Making and Knowing\""
      ],
      "metadata": {
        "id": "pQmGRzmz8yO0"
      },
      "execution_count": 14,
      "outputs": []
    }
  ]
}